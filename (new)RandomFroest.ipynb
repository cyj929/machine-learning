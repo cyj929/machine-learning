{
  "nbformat": 4,
  "nbformat_minor": 0,
  "metadata": {
    "colab": {
      "provenance": []
    },
    "kernelspec": {
      "name": "python3",
      "display_name": "Python 3"
    },
    "language_info": {
      "name": "python"
    }
  },
  "cells": [
    {
      "cell_type": "code",
      "execution_count": 2,
      "metadata": {
        "colab": {
          "base_uri": "https://localhost:8080/",
          "height": 76
        },
        "id": "cVHdxzP_FzD9",
        "outputId": "d22c47e2-954c-4e4f-9059-d147745cd1ce"
      },
      "outputs": [
        {
          "output_type": "display_data",
          "data": {
            "text/plain": [
              "<IPython.core.display.HTML object>"
            ],
            "text/html": [
              "\n",
              "     <input type=\"file\" id=\"files-7c6f98cf-ea03-4827-bbd9-4b16905cf667\" name=\"files[]\" multiple disabled\n",
              "        style=\"border:none\" />\n",
              "     <output id=\"result-7c6f98cf-ea03-4827-bbd9-4b16905cf667\">\n",
              "      Upload widget is only available when the cell has been executed in the\n",
              "      current browser session. Please rerun this cell to enable.\n",
              "      </output>\n",
              "      <script>// Copyright 2017 Google LLC\n",
              "//\n",
              "// Licensed under the Apache License, Version 2.0 (the \"License\");\n",
              "// you may not use this file except in compliance with the License.\n",
              "// You may obtain a copy of the License at\n",
              "//\n",
              "//      http://www.apache.org/licenses/LICENSE-2.0\n",
              "//\n",
              "// Unless required by applicable law or agreed to in writing, software\n",
              "// distributed under the License is distributed on an \"AS IS\" BASIS,\n",
              "// WITHOUT WARRANTIES OR CONDITIONS OF ANY KIND, either express or implied.\n",
              "// See the License for the specific language governing permissions and\n",
              "// limitations under the License.\n",
              "\n",
              "/**\n",
              " * @fileoverview Helpers for google.colab Python module.\n",
              " */\n",
              "(function(scope) {\n",
              "function span(text, styleAttributes = {}) {\n",
              "  const element = document.createElement('span');\n",
              "  element.textContent = text;\n",
              "  for (const key of Object.keys(styleAttributes)) {\n",
              "    element.style[key] = styleAttributes[key];\n",
              "  }\n",
              "  return element;\n",
              "}\n",
              "\n",
              "// Max number of bytes which will be uploaded at a time.\n",
              "const MAX_PAYLOAD_SIZE = 100 * 1024;\n",
              "\n",
              "function _uploadFiles(inputId, outputId) {\n",
              "  const steps = uploadFilesStep(inputId, outputId);\n",
              "  const outputElement = document.getElementById(outputId);\n",
              "  // Cache steps on the outputElement to make it available for the next call\n",
              "  // to uploadFilesContinue from Python.\n",
              "  outputElement.steps = steps;\n",
              "\n",
              "  return _uploadFilesContinue(outputId);\n",
              "}\n",
              "\n",
              "// This is roughly an async generator (not supported in the browser yet),\n",
              "// where there are multiple asynchronous steps and the Python side is going\n",
              "// to poll for completion of each step.\n",
              "// This uses a Promise to block the python side on completion of each step,\n",
              "// then passes the result of the previous step as the input to the next step.\n",
              "function _uploadFilesContinue(outputId) {\n",
              "  const outputElement = document.getElementById(outputId);\n",
              "  const steps = outputElement.steps;\n",
              "\n",
              "  const next = steps.next(outputElement.lastPromiseValue);\n",
              "  return Promise.resolve(next.value.promise).then((value) => {\n",
              "    // Cache the last promise value to make it available to the next\n",
              "    // step of the generator.\n",
              "    outputElement.lastPromiseValue = value;\n",
              "    return next.value.response;\n",
              "  });\n",
              "}\n",
              "\n",
              "/**\n",
              " * Generator function which is called between each async step of the upload\n",
              " * process.\n",
              " * @param {string} inputId Element ID of the input file picker element.\n",
              " * @param {string} outputId Element ID of the output display.\n",
              " * @return {!Iterable<!Object>} Iterable of next steps.\n",
              " */\n",
              "function* uploadFilesStep(inputId, outputId) {\n",
              "  const inputElement = document.getElementById(inputId);\n",
              "  inputElement.disabled = false;\n",
              "\n",
              "  const outputElement = document.getElementById(outputId);\n",
              "  outputElement.innerHTML = '';\n",
              "\n",
              "  const pickedPromise = new Promise((resolve) => {\n",
              "    inputElement.addEventListener('change', (e) => {\n",
              "      resolve(e.target.files);\n",
              "    });\n",
              "  });\n",
              "\n",
              "  const cancel = document.createElement('button');\n",
              "  inputElement.parentElement.appendChild(cancel);\n",
              "  cancel.textContent = 'Cancel upload';\n",
              "  const cancelPromise = new Promise((resolve) => {\n",
              "    cancel.onclick = () => {\n",
              "      resolve(null);\n",
              "    };\n",
              "  });\n",
              "\n",
              "  // Wait for the user to pick the files.\n",
              "  const files = yield {\n",
              "    promise: Promise.race([pickedPromise, cancelPromise]),\n",
              "    response: {\n",
              "      action: 'starting',\n",
              "    }\n",
              "  };\n",
              "\n",
              "  cancel.remove();\n",
              "\n",
              "  // Disable the input element since further picks are not allowed.\n",
              "  inputElement.disabled = true;\n",
              "\n",
              "  if (!files) {\n",
              "    return {\n",
              "      response: {\n",
              "        action: 'complete',\n",
              "      }\n",
              "    };\n",
              "  }\n",
              "\n",
              "  for (const file of files) {\n",
              "    const li = document.createElement('li');\n",
              "    li.append(span(file.name, {fontWeight: 'bold'}));\n",
              "    li.append(span(\n",
              "        `(${file.type || 'n/a'}) - ${file.size} bytes, ` +\n",
              "        `last modified: ${\n",
              "            file.lastModifiedDate ? file.lastModifiedDate.toLocaleDateString() :\n",
              "                                    'n/a'} - `));\n",
              "    const percent = span('0% done');\n",
              "    li.appendChild(percent);\n",
              "\n",
              "    outputElement.appendChild(li);\n",
              "\n",
              "    const fileDataPromise = new Promise((resolve) => {\n",
              "      const reader = new FileReader();\n",
              "      reader.onload = (e) => {\n",
              "        resolve(e.target.result);\n",
              "      };\n",
              "      reader.readAsArrayBuffer(file);\n",
              "    });\n",
              "    // Wait for the data to be ready.\n",
              "    let fileData = yield {\n",
              "      promise: fileDataPromise,\n",
              "      response: {\n",
              "        action: 'continue',\n",
              "      }\n",
              "    };\n",
              "\n",
              "    // Use a chunked sending to avoid message size limits. See b/62115660.\n",
              "    let position = 0;\n",
              "    do {\n",
              "      const length = Math.min(fileData.byteLength - position, MAX_PAYLOAD_SIZE);\n",
              "      const chunk = new Uint8Array(fileData, position, length);\n",
              "      position += length;\n",
              "\n",
              "      const base64 = btoa(String.fromCharCode.apply(null, chunk));\n",
              "      yield {\n",
              "        response: {\n",
              "          action: 'append',\n",
              "          file: file.name,\n",
              "          data: base64,\n",
              "        },\n",
              "      };\n",
              "\n",
              "      let percentDone = fileData.byteLength === 0 ?\n",
              "          100 :\n",
              "          Math.round((position / fileData.byteLength) * 100);\n",
              "      percent.textContent = `${percentDone}% done`;\n",
              "\n",
              "    } while (position < fileData.byteLength);\n",
              "  }\n",
              "\n",
              "  // All done.\n",
              "  yield {\n",
              "    response: {\n",
              "      action: 'complete',\n",
              "    }\n",
              "  };\n",
              "}\n",
              "\n",
              "scope.google = scope.google || {};\n",
              "scope.google.colab = scope.google.colab || {};\n",
              "scope.google.colab._files = {\n",
              "  _uploadFiles,\n",
              "  _uploadFilesContinue,\n",
              "};\n",
              "})(self);\n",
              "</script> "
            ]
          },
          "metadata": {}
        },
        {
          "output_type": "stream",
          "name": "stdout",
          "text": [
            "Saving mydata.xlsx to mydata.xlsx\n"
          ]
        }
      ],
      "source": [
        "from google.colab import files\n",
        "import io\n",
        "import pandas as pd\n",
        "myfile = files.upload()\n",
        "data = pd.read_excel(io.BytesIO(myfile['mydata.xlsx']))"
      ]
    },
    {
      "cell_type": "code",
      "source": [
        "data = data.iloc[:, 1:]"
      ],
      "metadata": {
        "id": "8Z_kF2A7GFNY"
      },
      "execution_count": 3,
      "outputs": []
    },
    {
      "cell_type": "code",
      "source": [
        "# feature_list = list(data.columns[1:])\n",
        "x = data.iloc[:, 1:]\n",
        "y = data.iloc[:, 0]"
      ],
      "metadata": {
        "id": "7X7GMwsZGGYQ"
      },
      "execution_count": 4,
      "outputs": []
    },
    {
      "cell_type": "code",
      "source": [
        "data.shape"
      ],
      "metadata": {
        "colab": {
          "base_uri": "https://localhost:8080/"
        },
        "id": "pUEzxXwZKQD-",
        "outputId": "e55d96e5-e3fb-4b39-f8d5-2d49825ff637"
      },
      "execution_count": 61,
      "outputs": [
        {
          "output_type": "execute_result",
          "data": {
            "text/plain": [
              "(256, 12)"
            ]
          },
          "metadata": {},
          "execution_count": 61
        }
      ]
    },
    {
      "cell_type": "code",
      "source": [
        "from sklearn.ensemble import RandomForestRegressor\n",
        "from sklearn.metrics import mean_squared_error, mean_absolute_error, mean_absolute_percentage_error\n",
        "from sklearn.model_selection import train_test_split\n",
        "from sklearn.preprocessing import MinMaxScaler\n",
        "import numpy as np\n",
        "from statsmodels.tsa.arima_process import arma_generate_sample"
      ],
      "metadata": {
        "id": "_JSs6eeIGH4N"
      },
      "execution_count": 46,
      "outputs": []
    },
    {
      "cell_type": "code",
      "source": [
        "# Assuming your time series data is stored in 'x' and the corresponding targets in 'y'\n",
        "\n",
        "# Apply log transformation to the data\n",
        "x_log = np.log1p(x)\n",
        "y_log = np.log1p(y)\n",
        "\n",
        "# x = x.diff().dropna()  # 독립 변수 차분\n",
        "# y = y.diff().dropna()  # target 변수 차분\n",
        "\n",
        "# Split the log-transformed data into training and testing sets\n",
        "x_train, x_test, y_train, y_test = train_test_split(x_log, y_log, test_size=0.05, shuffle=False)\n",
        "\n",
        "# Scale the features and target using MinMaxScaler\n",
        "scaler = MinMaxScaler()\n",
        "\n",
        "x_train_scaled = scaler.fit_transform(x_train)\n",
        "x_test_scaled  = scaler.transform(x_test)\n",
        "\n",
        "y_train_scaled  = scaler.fit_transform(y_train.values.reshape(-1, 1)).flatten()\n",
        "y_test_scaled  = scaler.transform(y_test.values.reshape(-1, 1)).flatten()\n",
        "\n",
        "# Create and train the Random Forest model\n",
        "rf_model = RandomForestRegressor(n_estimators=100, random_state=42)\n",
        "rf_model.fit(x_train_scaled , y_train_scaled )\n",
        "\n",
        "# Make predictions on the test set\n",
        "y_pred_scaled  = rf_model.predict(x_test_scaled)\n",
        "\n",
        "# Apply inverse scaling to the predictions and actual values\n",
        "#y_pred_inv = scaler.inverse_transform(y_pred_scaled .reshape(-1, 1)).flatten()\n",
        "#y_test_inv = scaler.inverse_transform(y_test_scaled .reshape(-1, 1)).flatten()\n"
      ],
      "metadata": {
        "id": "yRbKXNjzGKW6"
      },
      "execution_count": 62,
      "outputs": []
    },
    {
      "cell_type": "code",
      "source": [
        "y_test_scaled"
      ],
      "metadata": {
        "colab": {
          "base_uri": "https://localhost:8080/"
        },
        "id": "HjAEg-YBKBKG",
        "outputId": "dc809b47-a6a9-4be5-b83b-690160fa2260"
      },
      "execution_count": 63,
      "outputs": [
        {
          "output_type": "execute_result",
          "data": {
            "text/plain": [
              "array([0.7856581 , 0.81283022, 0.83995596, 1.00069372, 0.97583086,\n",
              "       0.81011041, 0.7982477 , 0.81277758, 1.00579204, 0.97987006,\n",
              "       0.84682302, 0.80631114, 0.7143532 ])"
            ]
          },
          "metadata": {},
          "execution_count": 63
        }
      ]
    },
    {
      "cell_type": "code",
      "source": [
        "mse = mean_squared_error(y_test_scaled, y_pred_scaled)\n",
        "print(\"Mean Squared Error:\", mse)"
      ],
      "metadata": {
        "colab": {
          "base_uri": "https://localhost:8080/"
        },
        "id": "3kC2J1DyGcF0",
        "outputId": "1dd1fad2-7c9f-4c6e-a79f-1de278d611c0"
      },
      "execution_count": 64,
      "outputs": [
        {
          "output_type": "stream",
          "name": "stdout",
          "text": [
            "Mean Squared Error: 0.004000815213301239\n"
          ]
        }
      ]
    },
    {
      "cell_type": "code",
      "source": [
        "rmse = mse ** 0.5\n",
        "print(\"RMSE:\", rmse)"
      ],
      "metadata": {
        "colab": {
          "base_uri": "https://localhost:8080/"
        },
        "id": "7FT0Vu7yGbMm",
        "outputId": "bc84f839-699d-47fe-a7a8-bcc3c7a9c8cf"
      },
      "execution_count": 65,
      "outputs": [
        {
          "output_type": "stream",
          "name": "stdout",
          "text": [
            "RMSE: 0.06325199770205871\n"
          ]
        }
      ]
    },
    {
      "cell_type": "code",
      "source": [
        "# MAPE 계산\n",
        "mape = mean_absolute_percentage_error(y_test_scaled, y_pred_scaled)\n",
        "print(\"MAPE:\", mape)"
      ],
      "metadata": {
        "colab": {
          "base_uri": "https://localhost:8080/"
        },
        "id": "F3gopW_mJp5q",
        "outputId": "d3e06751-bbfb-4134-a2f3-fa1d7caefad4"
      },
      "execution_count": 66,
      "outputs": [
        {
          "output_type": "stream",
          "name": "stdout",
          "text": [
            "MAPE: 0.05761281446860282\n"
          ]
        }
      ]
    },
    {
      "cell_type": "code",
      "source": [
        "# 평균 절대 오차(MAE) 계산\n",
        "mae = mean_absolute_error(y_test_scaled, y_pred_scaled)\n",
        "print(\"MAE:\", mae)"
      ],
      "metadata": {
        "colab": {
          "base_uri": "https://localhost:8080/"
        },
        "id": "QrrSzunyJ5Pl",
        "outputId": "4c8245af-c895-4d20-9411-4c285b4ecad3"
      },
      "execution_count": 67,
      "outputs": [
        {
          "output_type": "stream",
          "name": "stdout",
          "text": [
            "MAE: 0.05158333386758381\n"
          ]
        }
      ]
    },
    {
      "cell_type": "code",
      "source": [
        "from sklearn.metrics import r2_score\n",
        "\n",
        "# 결정 계수를 계산합니다.\n",
        "r2 = r2_score(y_test_scaled, y_pred_scaled)\n",
        "\n",
        "# 결정 계수를 출력합니다.\n",
        "print(\"R^2 Score:\", r2)"
      ],
      "metadata": {
        "colab": {
          "base_uri": "https://localhost:8080/"
        },
        "id": "EffyzXbIGjpG",
        "outputId": "9308a393-d83d-4c13-e2ab-320aaa5c30bc"
      },
      "execution_count": 68,
      "outputs": [
        {
          "output_type": "stream",
          "name": "stdout",
          "text": [
            "R^2 Score: 0.5262458194796358\n"
          ]
        }
      ]
    },
    {
      "cell_type": "code",
      "source": [
        "importances = rf_model.feature_importances_"
      ],
      "metadata": {
        "id": "todMw01NGrv4"
      },
      "execution_count": 69,
      "outputs": []
    },
    {
      "cell_type": "code",
      "source": [
        "importances"
      ],
      "metadata": {
        "colab": {
          "base_uri": "https://localhost:8080/"
        },
        "id": "DEFVie_NGtcI",
        "outputId": "61c9d086-f87e-4a9c-9b5b-4849c1585915"
      },
      "execution_count": 70,
      "outputs": [
        {
          "output_type": "execute_result",
          "data": {
            "text/plain": [
              "array([0.04186948, 0.01314652, 0.00375106, 0.00726197, 0.01954602,\n",
              "       0.00822717, 0.39852753, 0.01867329, 0.48314398, 0.00279248,\n",
              "       0.00306051])"
            ]
          },
          "metadata": {},
          "execution_count": 70
        }
      ]
    },
    {
      "cell_type": "code",
      "source": [
        "indices = np.argsort(importances)[::-1]"
      ],
      "metadata": {
        "id": "AkAkyWG3GulY"
      },
      "execution_count": 71,
      "outputs": []
    },
    {
      "cell_type": "code",
      "source": [
        "indices"
      ],
      "metadata": {
        "colab": {
          "base_uri": "https://localhost:8080/"
        },
        "id": "zowYj8jwGv54",
        "outputId": "369b86d3-0d58-4cfd-a6e3-1e6d10b2e281"
      },
      "execution_count": 72,
      "outputs": [
        {
          "output_type": "execute_result",
          "data": {
            "text/plain": [
              "array([ 8,  6,  0,  4,  7,  1,  5,  3,  2, 10,  9])"
            ]
          },
          "metadata": {},
          "execution_count": 72
        }
      ]
    },
    {
      "cell_type": "code",
      "source": [
        "feature_list = list(x.columns)"
      ],
      "metadata": {
        "id": "MucLQyKDG0Sx"
      },
      "execution_count": 73,
      "outputs": []
    },
    {
      "cell_type": "code",
      "source": [
        "import matplotlib.pyplot as plt\n",
        "\n",
        "\n",
        "plt.plot(y_pred_scaled, label='pred')\n",
        "plt.plot(y_test_scaled, label='data',color = 'yellow')\n",
        "plt.ylabel('y_test')\n",
        "plt.xlabel('time')\n",
        "plt.legend(loc='best')\n",
        "plt.show()\n",
        "print(y_pred_scaled)\n",
        "print(y_test_scaled)"
      ],
      "metadata": {
        "colab": {
          "base_uri": "https://localhost:8080/",
          "height": 558
        },
        "id": "Q9uRH6QAG18f",
        "outputId": "3f4e0138-6849-4a50-e744-22caefab71b0"
      },
      "execution_count": 74,
      "outputs": [
        {
          "output_type": "display_data",
          "data": {
            "text/plain": [
              "<Figure size 640x480 with 1 Axes>"
            ],
            "image/png": "[encoded data removed]"
          },
          "metadata": {}
        },
        {
          "output_type": "stream",
          "name": "stdout",
          "text": [
            "[0.75362255 0.78184569 0.8170742  0.91544731 0.9091525  0.78320345\n",
            " 0.76173756 0.77557587 0.92555083 0.82472386 0.83638991 0.76449751\n",
            " 0.75885698]\n",
            "[0.7856581  0.81283022 0.83995596 1.00069372 0.97583086 0.81011041\n",
            " 0.7982477  0.81277758 1.00579204 0.97987006 0.84682302 0.80631114\n",
            " 0.7143532 ]\n"
          ]
        }
      ]
    },
    {
      "cell_type": "code",
      "source": [
        "\n",
        "# 특성 중요도 시각화\n",
        "plt.figure()\n",
        "plt.title(\"Random Forest Feature Importances\")\n",
        "plt.bar(range(x_train.shape[1]), importances[indices], align=\"center\")\n",
        "plt.xticks(range(x_train.shape[1]), [feature_list[i] for i in indices], rotation=90)\n",
        "plt.tight_layout()\n",
        "plt.show()"
      ],
      "metadata": {
        "colab": {
          "base_uri": "https://localhost:8080/",
          "height": 487
        },
        "id": "wFANzXnDKJ0P",
        "outputId": "bd77eef9-c269-4a6c-8a7c-65ce820c9e59"
      },
      "execution_count": 75,
      "outputs": [
        {
          "output_type": "display_data",
          "data": {
            "text/plain": [
              "<Figure size 640x480 with 1 Axes>"
            ],
            "image/png": "[encoded data removed]"
          },
          "metadata": {}
        }
      ]
    }
  ]
}